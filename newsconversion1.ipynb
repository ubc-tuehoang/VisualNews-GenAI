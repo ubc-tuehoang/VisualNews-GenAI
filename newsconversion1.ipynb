{
 "cells": [
  {
   "cell_type": "code",
   "execution_count": 26,
   "id": "fffdd8d6-3274-4bad-90a6-715af6bde96d",
   "metadata": {},
   "outputs": [
    {
     "name": "stdout",
     "output_type": "stream",
     "text": [
      "Requirement already satisfied: bardapi in /usr/local/python/3.10.13/lib/python3.10/site-packages (0.1.38)\n",
      "Requirement already satisfied: httpx>=0.20.0 in /usr/local/python/3.10.13/lib/python3.10/site-packages (from httpx[http2]>=0.20.0->bardapi) (0.25.2)\n",
      "Requirement already satisfied: requests in /home/codespace/.local/lib/python3.10/site-packages (from bardapi) (2.31.0)\n",
      "Requirement already satisfied: deep-translator in /usr/local/python/3.10.13/lib/python3.10/site-packages (from bardapi) (1.11.4)\n",
      "Requirement already satisfied: colorama in /home/codespace/.local/lib/python3.10/site-packages (from bardapi) (0.4.6)\n",
      "Requirement already satisfied: google-cloud-translate in /usr/local/python/3.10.13/lib/python3.10/site-packages (from bardapi) (3.12.1)\n",
      "Requirement already satisfied: browser-cookie3 in /usr/local/python/3.10.13/lib/python3.10/site-packages (from bardapi) (0.19.1)\n",
      "Requirement already satisfied: langdetect in /usr/local/python/3.10.13/lib/python3.10/site-packages (from bardapi) (1.0.9)\n",
      "Requirement already satisfied: anyio in /home/codespace/.local/lib/python3.10/site-packages (from httpx>=0.20.0->httpx[http2]>=0.20.0->bardapi) (4.0.0)\n",
      "Requirement already satisfied: certifi in /home/codespace/.local/lib/python3.10/site-packages (from httpx>=0.20.0->httpx[http2]>=0.20.0->bardapi) (2023.7.22)\n",
      "Requirement already satisfied: httpcore==1.* in /usr/local/python/3.10.13/lib/python3.10/site-packages (from httpx>=0.20.0->httpx[http2]>=0.20.0->bardapi) (1.0.2)\n",
      "Requirement already satisfied: idna in /home/codespace/.local/lib/python3.10/site-packages (from httpx>=0.20.0->httpx[http2]>=0.20.0->bardapi) (3.4)\n",
      "Requirement already satisfied: sniffio in /home/codespace/.local/lib/python3.10/site-packages (from httpx>=0.20.0->httpx[http2]>=0.20.0->bardapi) (1.3.0)\n",
      "Requirement already satisfied: h11<0.15,>=0.13 in /usr/local/python/3.10.13/lib/python3.10/site-packages (from httpcore==1.*->httpx>=0.20.0->httpx[http2]>=0.20.0->bardapi) (0.14.0)\n",
      "Requirement already satisfied: h2<5,>=3 in /usr/local/python/3.10.13/lib/python3.10/site-packages (from httpx[http2]>=0.20.0->bardapi) (4.1.0)\n",
      "Requirement already satisfied: lz4 in /usr/local/python/3.10.13/lib/python3.10/site-packages (from browser-cookie3->bardapi) (4.3.2)\n",
      "Requirement already satisfied: pycryptodomex in /usr/local/python/3.10.13/lib/python3.10/site-packages (from browser-cookie3->bardapi) (3.19.0)\n",
      "Requirement already satisfied: jeepney in /usr/local/python/3.10.13/lib/python3.10/site-packages (from browser-cookie3->bardapi) (0.8.0)\n",
      "Requirement already satisfied: beautifulsoup4<5.0.0,>=4.9.1 in /home/codespace/.local/lib/python3.10/site-packages (from deep-translator->bardapi) (4.12.2)\n",
      "Requirement already satisfied: charset-normalizer<4,>=2 in /home/codespace/.local/lib/python3.10/site-packages (from requests->bardapi) (3.3.2)\n",
      "Requirement already satisfied: urllib3<3,>=1.21.1 in /usr/local/python/3.10.13/lib/python3.10/site-packages (from requests->bardapi) (2.0.7)\n",
      "Requirement already satisfied: google-api-core!=2.0.*,!=2.1.*,!=2.10.*,!=2.2.*,!=2.3.*,!=2.4.*,!=2.5.*,!=2.6.*,!=2.7.*,!=2.8.*,!=2.9.*,<3.0.0dev,>=1.34.0 in /usr/local/python/3.10.13/lib/python3.10/site-packages (from google-api-core[grpc]!=2.0.*,!=2.1.*,!=2.10.*,!=2.2.*,!=2.3.*,!=2.4.*,!=2.5.*,!=2.6.*,!=2.7.*,!=2.8.*,!=2.9.*,<3.0.0dev,>=1.34.0->google-cloud-translate->bardapi) (2.14.0)\n",
      "Requirement already satisfied: google-cloud-core<3.0.0dev,>=1.4.4 in /usr/local/python/3.10.13/lib/python3.10/site-packages (from google-cloud-translate->bardapi) (2.3.3)\n",
      "Requirement already satisfied: proto-plus<2.0.0dev,>=1.22.0 in /usr/local/python/3.10.13/lib/python3.10/site-packages (from google-cloud-translate->bardapi) (1.22.3)\n",
      "Requirement already satisfied: protobuf!=3.20.0,!=3.20.1,!=4.21.0,!=4.21.1,!=4.21.2,!=4.21.3,!=4.21.4,!=4.21.5,<5.0.0dev,>=3.19.5 in /usr/local/python/3.10.13/lib/python3.10/site-packages (from google-cloud-translate->bardapi) (4.25.1)\n",
      "Requirement already satisfied: six in /home/codespace/.local/lib/python3.10/site-packages (from langdetect->bardapi) (1.16.0)\n",
      "Requirement already satisfied: soupsieve>1.2 in /home/codespace/.local/lib/python3.10/site-packages (from beautifulsoup4<5.0.0,>=4.9.1->deep-translator->bardapi) (2.5)\n",
      "Requirement already satisfied: googleapis-common-protos<2.0.dev0,>=1.56.2 in /usr/local/python/3.10.13/lib/python3.10/site-packages (from google-api-core!=2.0.*,!=2.1.*,!=2.10.*,!=2.2.*,!=2.3.*,!=2.4.*,!=2.5.*,!=2.6.*,!=2.7.*,!=2.8.*,!=2.9.*,<3.0.0dev,>=1.34.0->google-api-core[grpc]!=2.0.*,!=2.1.*,!=2.10.*,!=2.2.*,!=2.3.*,!=2.4.*,!=2.5.*,!=2.6.*,!=2.7.*,!=2.8.*,!=2.9.*,<3.0.0dev,>=1.34.0->google-cloud-translate->bardapi) (1.61.0)\n",
      "Requirement already satisfied: google-auth<3.0.dev0,>=2.14.1 in /usr/local/python/3.10.13/lib/python3.10/site-packages (from google-api-core!=2.0.*,!=2.1.*,!=2.10.*,!=2.2.*,!=2.3.*,!=2.4.*,!=2.5.*,!=2.6.*,!=2.7.*,!=2.8.*,!=2.9.*,<3.0.0dev,>=1.34.0->google-api-core[grpc]!=2.0.*,!=2.1.*,!=2.10.*,!=2.2.*,!=2.3.*,!=2.4.*,!=2.5.*,!=2.6.*,!=2.7.*,!=2.8.*,!=2.9.*,<3.0.0dev,>=1.34.0->google-cloud-translate->bardapi) (2.24.0)\n",
      "Requirement already satisfied: grpcio<2.0dev,>=1.33.2 in /usr/local/python/3.10.13/lib/python3.10/site-packages (from google-api-core[grpc]!=2.0.*,!=2.1.*,!=2.10.*,!=2.2.*,!=2.3.*,!=2.4.*,!=2.5.*,!=2.6.*,!=2.7.*,!=2.8.*,!=2.9.*,<3.0.0dev,>=1.34.0->google-cloud-translate->bardapi) (1.59.3)\n",
      "Requirement already satisfied: grpcio-status<2.0.dev0,>=1.33.2 in /usr/local/python/3.10.13/lib/python3.10/site-packages (from google-api-core[grpc]!=2.0.*,!=2.1.*,!=2.10.*,!=2.2.*,!=2.3.*,!=2.4.*,!=2.5.*,!=2.6.*,!=2.7.*,!=2.8.*,!=2.9.*,<3.0.0dev,>=1.34.0->google-cloud-translate->bardapi) (1.59.3)\n",
      "Requirement already satisfied: hyperframe<7,>=6.0 in /usr/local/python/3.10.13/lib/python3.10/site-packages (from h2<5,>=3->httpx[http2]>=0.20.0->bardapi) (6.0.1)\n",
      "Requirement already satisfied: hpack<5,>=4.0 in /usr/local/python/3.10.13/lib/python3.10/site-packages (from h2<5,>=3->httpx[http2]>=0.20.0->bardapi) (4.0.0)\n",
      "Requirement already satisfied: exceptiongroup>=1.0.2 in /home/codespace/.local/lib/python3.10/site-packages (from anyio->httpx>=0.20.0->httpx[http2]>=0.20.0->bardapi) (1.1.3)\n",
      "Requirement already satisfied: cachetools<6.0,>=2.0.0 in /usr/local/python/3.10.13/lib/python3.10/site-packages (from google-auth<3.0.dev0,>=2.14.1->google-api-core!=2.0.*,!=2.1.*,!=2.10.*,!=2.2.*,!=2.3.*,!=2.4.*,!=2.5.*,!=2.6.*,!=2.7.*,!=2.8.*,!=2.9.*,<3.0.0dev,>=1.34.0->google-api-core[grpc]!=2.0.*,!=2.1.*,!=2.10.*,!=2.2.*,!=2.3.*,!=2.4.*,!=2.5.*,!=2.6.*,!=2.7.*,!=2.8.*,!=2.9.*,<3.0.0dev,>=1.34.0->google-cloud-translate->bardapi) (5.3.2)\n",
      "Requirement already satisfied: pyasn1-modules>=0.2.1 in /usr/local/python/3.10.13/lib/python3.10/site-packages (from google-auth<3.0.dev0,>=2.14.1->google-api-core!=2.0.*,!=2.1.*,!=2.10.*,!=2.2.*,!=2.3.*,!=2.4.*,!=2.5.*,!=2.6.*,!=2.7.*,!=2.8.*,!=2.9.*,<3.0.0dev,>=1.34.0->google-api-core[grpc]!=2.0.*,!=2.1.*,!=2.10.*,!=2.2.*,!=2.3.*,!=2.4.*,!=2.5.*,!=2.6.*,!=2.7.*,!=2.8.*,!=2.9.*,<3.0.0dev,>=1.34.0->google-cloud-translate->bardapi) (0.3.0)\n",
      "Requirement already satisfied: rsa<5,>=3.1.4 in /usr/local/python/3.10.13/lib/python3.10/site-packages (from google-auth<3.0.dev0,>=2.14.1->google-api-core!=2.0.*,!=2.1.*,!=2.10.*,!=2.2.*,!=2.3.*,!=2.4.*,!=2.5.*,!=2.6.*,!=2.7.*,!=2.8.*,!=2.9.*,<3.0.0dev,>=1.34.0->google-api-core[grpc]!=2.0.*,!=2.1.*,!=2.10.*,!=2.2.*,!=2.3.*,!=2.4.*,!=2.5.*,!=2.6.*,!=2.7.*,!=2.8.*,!=2.9.*,<3.0.0dev,>=1.34.0->google-cloud-translate->bardapi) (4.9)\n",
      "Requirement already satisfied: pyasn1<0.6.0,>=0.4.6 in /usr/local/python/3.10.13/lib/python3.10/site-packages (from pyasn1-modules>=0.2.1->google-auth<3.0.dev0,>=2.14.1->google-api-core!=2.0.*,!=2.1.*,!=2.10.*,!=2.2.*,!=2.3.*,!=2.4.*,!=2.5.*,!=2.6.*,!=2.7.*,!=2.8.*,!=2.9.*,<3.0.0dev,>=1.34.0->google-api-core[grpc]!=2.0.*,!=2.1.*,!=2.10.*,!=2.2.*,!=2.3.*,!=2.4.*,!=2.5.*,!=2.6.*,!=2.7.*,!=2.8.*,!=2.9.*,<3.0.0dev,>=1.34.0->google-cloud-translate->bardapi) (0.5.1)\n"
     ]
    }
   ],
   "source": [
    "!pip install bardapi"
   ]
  },
  {
   "cell_type": "code",
   "execution_count": null,
   "id": "93cd9ecc-035b-41bc-89af-5186e904c2b5",
   "metadata": {},
   "outputs": [],
   "source": [
    "from bardapi import Bard\n",
    "\n",
    "##Secure-1PSID\n",
    "token = '[BardAI Token]'\n",
    "bard = Bard(token=token)\n",
    "queryString = 'Provide the latest space news.'\n",
    "out = bard.get_answer(queryString)['content']\n",
    "\n"
   ]
  },
  {
   "cell_type": "code",
   "execution_count": 28,
   "id": "9a0185c2-ac5c-45d5-9573-c0fbdbfae8aa",
   "metadata": {},
   "outputs": [
    {
     "name": "stdout",
     "output_type": "stream",
     "text": [
      "I'm just a language model, so I can't help you with that.\n"
     ]
    }
   ],
   "source": [
    "print(out)\n"
   ]
  },
  {
   "cell_type": "code",
   "execution_count": 29,
   "id": "a44fb12a-3886-48fd-af17-2c6086e3f4b3",
   "metadata": {},
   "outputs": [
    {
     "name": "stdout",
     "output_type": "stream",
     "text": [
      "I'm just a language model, so I can't help you with that.\n",
      "POST request was successful!\n",
      "Response data TEXT: {\n",
      "  \"created\": 1701562618,\n",
      "  \"data\": [\n",
      "    {\n",
      "      \"url\": \"https://oaidalleapiprodscus.blob.core.windows.net/private/org-2qrCIRfmcjBClbiMsQ7V2bfc/user-lSiuolFzbM4A6l1YyLt8jdOE/img-4bf7QUFP3G7dkFWOKBHGuasI.png?st=2023-12-02T23%3A16%3A58Z&se=2023-12-03T01%3A16%3A58Z&sp=r&sv=2021-08-06&sr=b&rscd=inline&rsct=image/png&skoid=6aaadede-4fb3-4698-a8f6-684d7786b067&sktid=a48cca56-e6da-484e-a814-9c849652bcb3&skt=2023-12-02T21%3A51%3A07Z&ske=2023-12-03T21%3A51%3A07Z&sks=b&skv=2021-08-06&sig=aYKCewgzjpF5/g9y9wYBBE1%2B1H61cykjpw3i258elg4%3D\"\n",
      "    }\n",
      "  ]\n",
      "}\n",
      "\n"
     ]
    },
    {
     "data": {
      "text/html": [
       "<img src=\"https://oaidalleapiprodscus.blob.core.windows.net/private/org-2qrCIRfmcjBClbiMsQ7V2bfc/user-lSiuolFzbM4A6l1YyLt8jdOE/img-4bf7QUFP3G7dkFWOKBHGuasI.png?st=2023-12-02T23%3A16%3A58Z&se=2023-12-03T01%3A16%3A58Z&sp=r&sv=2021-08-06&sr=b&rscd=inline&rsct=image/png&skoid=6aaadede-4fb3-4698-a8f6-684d7786b067&sktid=a48cca56-e6da-484e-a814-9c849652bcb3&skt=2023-12-02T21%3A51%3A07Z&ske=2023-12-03T21%3A51%3A07Z&sks=b&skv=2021-08-06&sig=aYKCewgzjpF5/g9y9wYBBE1%2B1H61cykjpw3i258elg4%3D\"/>"
      ],
      "text/plain": [
       "<IPython.core.display.Image object>"
      ]
     },
     "metadata": {},
     "output_type": "display_data"
    }
   ],
   "source": [
    "import requests\n",
    "from IPython.display import Image, display\n",
    "\n",
    "# URL to openai the POST request\n",
    "url = \"https://api.openai.com/v1/images/generations\"\n",
    "\n",
    "json_data = {\n",
    "    \"prompt\": \"As an artist, imagine crafting a captivating and inspiring...\",\n",
    "    \"n\": 1,\n",
    "    \"size\": \"1024x1024\"\n",
    "  }\n",
    "#out = \"Scientists have cooked up some mind-boggling mini-robots! Crafted from human tracheal cells, these microscopic marvels can scoot around and nudge neurons into growing across artificial wounds. Imagine tiny medics patching you up from the inside!\"\n",
    "# Changing the value of the \"size\" key\n",
    "json_data[\"prompt\"] = \"As an artist, imagine crafting a captivating and inspiring \" + out\n",
    "\n",
    "# Trim the string to a maximum of 1000 characters\n",
    "trimmed_string = json_data[\"prompt\"][100:1000]\n",
    "json_data[\"prompt\"] = trimmed_string\n",
    "\n",
    "print(out)\n",
    "\n",
    "# Headers with Bearer token.\n",
    "headers = {\n",
    "    \"Content-Type\": \"application/json\",\n",
    "    \"Authorization\": \"[OpenAI Token]\"\n",
    "}\n",
    "\n",
    "# Send the POST request with headers and JSON data\n",
    "response = requests.post(url, json=json_data, headers=headers)\n",
    "image_url = \"\"\n",
    "\n",
    "# Check the response status code\n",
    "if response.status_code == 200:\n",
    "    print(\"POST request was successful!\")\n",
    "\n",
    "    response_json = response.json()\n",
    "    print(\"Response data TEXT:\", response.text)\n",
    "    \n",
    "    extracted_url = response_json.get('url')\n",
    "    #print(\"Response data URL:\", response_json.get('data')[0].get('url'))\n",
    "    image_url = response_json.get('data')[0].get('url')\n",
    "\n",
    "    # Display the image\n",
    "    display(Image(url=image_url))\n",
    "    \n",
    "else:\n",
    "    print(\"POST request failed with status code:\", response.status_code)\n",
    "    print(\"Error message:\", response.text)\n"
   ]
  },
  {
   "cell_type": "code",
   "execution_count": 30,
   "id": "65cb51ed-1257-4e04-a91e-3d42d5a7815d",
   "metadata": {},
   "outputs": [
    {
     "name": "stdout",
     "output_type": "stream",
     "text": [
      "Requirement already satisfied: Pillow in /home/codespace/.local/lib/python3.10/site-packages (10.1.0)\n",
      "Python 3.10.13\n"
     ]
    }
   ],
   "source": [
    "!pip install Pillow\n",
    "# Upgrade Python to version 3.10\n",
    "!python --version"
   ]
  },
  {
   "cell_type": "code",
   "execution_count": 31,
   "id": "adcae683-38df-45e9-bc3e-9029811faefa",
   "metadata": {},
   "outputs": [],
   "source": [
    "from PIL import Image\n",
    "\n",
    "# URL of the image\n",
    "#image_url = \"your_image_url.jpg\"  # Replace with the actual URL\n",
    "\n",
    "# Fetch the image from the URL\n",
    "response = requests.get(image_url, stream=True)\n",
    "response.raise_for_status()\n",
    "\n",
    "# Open the image using Pillow\n",
    "img = Image.open(response.raw)\n",
    "\n",
    "# Save the original image\n",
    "#img.save(\"original_image.jpg\")"
   ]
  },
  {
   "cell_type": "code",
   "execution_count": 32,
   "id": "a9b05601-901d-48dc-a72e-37f5d03f5efa",
   "metadata": {},
   "outputs": [],
   "source": [
    "import random\n",
    "file_name = \"openAI_ImageGenerator_with_Jupyter_and_GithubAction_\" + str(int(random.random()*10000)) + \"_.jpg\"\n",
    "img.save(file_name)\n"
   ]
  },
  {
   "cell_type": "code",
   "execution_count": 33,
   "id": "256562c8-9579-432f-9b6f-5b144bf300cd",
   "metadata": {},
   "outputs": [
    {
     "name": "stdout",
     "output_type": "stream",
     "text": [
      "[main 77a28ed] update images\n",
      " 1 file changed, 0 insertions(+), 0 deletions(-)\n",
      " create mode 100644 openAI_ImageGenerator_with_Jupyter_and_GithubAction_1388_.jpg\n",
      "Enumerating objects: 4, done.\n",
      "Counting objects: 100% (4/4), done.\n",
      "Delta compression using up to 2 threads\n",
      "Compressing objects: 100% (3/3), done.\n",
      "Writing objects: 100% (3/3), 85.68 KiB | 28.56 MiB/s, done.\n",
      "Total 3 (delta 1), reused 0 (delta 0), pack-reused 0\n",
      "remote: Resolving deltas: 100% (1/1), completed with 1 local object.\u001b[K\n",
      "To https://github.com/ubc-tuehoang/VisualNews-GenAI\n",
      "   f622be0..77a28ed  main -> main\n"
     ]
    }
   ],
   "source": [
    "!git add openAI_ImageGenerator_with_Jupyter_and_GithubAction_*\n",
    "!git commit -m \"update images\"\n",
    "!git push\n"
   ]
  },
  {
   "cell_type": "code",
   "execution_count": null,
   "id": "610db364-aa5f-41f7-a1d2-d3b0866ab314",
   "metadata": {},
   "outputs": [],
   "source": []
  }
 ],
 "metadata": {
  "kernelspec": {
   "display_name": "Python 3 (ipykernel)",
   "language": "python",
   "name": "python3"
  },
  "language_info": {
   "codemirror_mode": {
    "name": "ipython",
    "version": 3
   },
   "file_extension": ".py",
   "mimetype": "text/x-python",
   "name": "python",
   "nbconvert_exporter": "python",
   "pygments_lexer": "ipython3",
   "version": "3.10.13"
  }
 },
 "nbformat": 4,
 "nbformat_minor": 5
}
